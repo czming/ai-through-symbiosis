{
 "cells": [
  {
   "cell_type": "markdown",
   "metadata": {},
   "source": [
    "FFT impl testing"
   ]
  },
  {
   "cell_type": "code",
   "execution_count": 2,
   "metadata": {},
   "outputs": [],
   "source": [
    "import numpy as np \n",
    "import cv2 \n",
    "import os \n",
    "import matplotlib.pyplot as plt\n"
   ]
  },
  {
   "cell_type": "code",
   "execution_count": 3,
   "metadata": {},
   "outputs": [],
   "source": [
    "#https://github.com/karthik9319/Blur-Detection/blob/master/OpenCV_Fast_Fourier_Transform(FFT)_for_Blur_Detection/main/detect_blur.py\n",
    "def detect_blur_fft(image, size=60, threshold=10, vis=False):\n",
    "    (h, w) = image.shape\n",
    "    (cx, cy) = (int(w / 2.0), int(h / 2.0))\n",
    "    fft = np.fft.fft2(image)\n",
    "    fftShift = np.fft.fftshift(fft)\n",
    "\n",
    "    if vis:\n",
    "        magnitude = 20 * np.log(np.abs(fftShift))\n",
    "\n",
    "        (fig, ax) = plt.subplots(1, 2,)\n",
    "\n",
    "        ax[0].imshow(image, cmap=\"gray\")\n",
    "        ax[0].set_title(\"Input\")\n",
    "        ax[0].set_xticks([])\n",
    "        ax[0].set_yticks([])\n",
    "\n",
    "        ax[1].imshow(magnitude, cmap=\"gray\")\n",
    "        ax[1].set_title(\"Magnitude Spectrum\")\n",
    "        ax[1].set_xticks([])\n",
    "        ax[1].set_yticks([])\n",
    "\n",
    "        plt.show()\n",
    "\n",
    "    fftShift[cy - size : cy + size, cx - size : cx + size] = 0\n",
    "    fftShift = np.fft.ifftshift(fftShift)\n",
    "    recon = np.fft.ifft2(fftShift)\n",
    "\n",
    "    magnitude = 20 * np.log(np.abs(recon))\n",
    "    mean = np.mean(magnitude)\n",
    "\n",
    "    return (mean, mean <= threshold)"
   ]
  },
  {
   "cell_type": "code",
   "execution_count": null,
   "metadata": {},
   "outputs": [],
   "source": [
    "img = cv2.imread('../../../../aits/')"
   ]
  }
 ],
 "metadata": {
  "kernelspec": {
   "display_name": "base",
   "language": "python",
   "name": "python3"
  },
  "language_info": {
   "codemirror_mode": {
    "name": "ipython",
    "version": 3
   },
   "file_extension": ".py",
   "mimetype": "text/x-python",
   "name": "python",
   "nbconvert_exporter": "python",
   "pygments_lexer": "ipython3",
   "version": "3.11.5"
  }
 },
 "nbformat": 4,
 "nbformat_minor": 2
}
